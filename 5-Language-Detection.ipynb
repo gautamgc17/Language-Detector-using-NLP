{
 "cells": [
  {
   "cell_type": "markdown",
   "metadata": {},
   "source": [
    "## NAIVE BAYES CLASSIFIER"
   ]
  },
  {
   "cell_type": "markdown",
   "metadata": {},
   "source": [
    "#### Mushroom Dataset \n",
    "Goal is to predict the class of mushrooms, given some features of the mushrooms. We will use Naive Bayes Model for this Classification\n",
    "#### Load the Dataset"
   ]
  },
  {
   "cell_type": "code",
   "execution_count": 2,
   "metadata": {},
   "outputs": [],
   "source": [
    "import numpy as np\n",
    "import pandas as pd"
   ]
  },
  {
   "cell_type": "code",
   "execution_count": 3,
   "metadata": {},
   "outputs": [
    {
     "data": {
      "text/html": [
       "<div>\n",
       "<style scoped>\n",
       "    .dataframe tbody tr th:only-of-type {\n",
       "        vertical-align: middle;\n",
       "    }\n",
       "\n",
       "    .dataframe tbody tr th {\n",
       "        vertical-align: top;\n",
       "    }\n",
       "\n",
       "    .dataframe thead th {\n",
       "        text-align: right;\n",
       "    }\n",
       "</style>\n",
       "<table border=\"1\" class=\"dataframe\">\n",
       "  <thead>\n",
       "    <tr style=\"text-align: right;\">\n",
       "      <th></th>\n",
       "      <th>class</th>\n",
       "      <th>cap-shape</th>\n",
       "      <th>cap-surface</th>\n",
       "      <th>cap-color</th>\n",
       "      <th>bruises</th>\n",
       "      <th>odor</th>\n",
       "      <th>gill-attachment</th>\n",
       "      <th>gill-spacing</th>\n",
       "      <th>gill-size</th>\n",
       "      <th>gill-color</th>\n",
       "      <th>...</th>\n",
       "      <th>stalk-surface-below-ring</th>\n",
       "      <th>stalk-color-above-ring</th>\n",
       "      <th>stalk-color-below-ring</th>\n",
       "      <th>veil-type</th>\n",
       "      <th>veil-color</th>\n",
       "      <th>ring-number</th>\n",
       "      <th>ring-type</th>\n",
       "      <th>spore-print-color</th>\n",
       "      <th>population</th>\n",
       "      <th>habitat</th>\n",
       "    </tr>\n",
       "  </thead>\n",
       "  <tbody>\n",
       "    <tr>\n",
       "      <th>0</th>\n",
       "      <td>p</td>\n",
       "      <td>x</td>\n",
       "      <td>s</td>\n",
       "      <td>n</td>\n",
       "      <td>t</td>\n",
       "      <td>p</td>\n",
       "      <td>f</td>\n",
       "      <td>c</td>\n",
       "      <td>n</td>\n",
       "      <td>k</td>\n",
       "      <td>...</td>\n",
       "      <td>s</td>\n",
       "      <td>w</td>\n",
       "      <td>w</td>\n",
       "      <td>p</td>\n",
       "      <td>w</td>\n",
       "      <td>o</td>\n",
       "      <td>p</td>\n",
       "      <td>k</td>\n",
       "      <td>s</td>\n",
       "      <td>u</td>\n",
       "    </tr>\n",
       "    <tr>\n",
       "      <th>1</th>\n",
       "      <td>e</td>\n",
       "      <td>x</td>\n",
       "      <td>s</td>\n",
       "      <td>y</td>\n",
       "      <td>t</td>\n",
       "      <td>a</td>\n",
       "      <td>f</td>\n",
       "      <td>c</td>\n",
       "      <td>b</td>\n",
       "      <td>k</td>\n",
       "      <td>...</td>\n",
       "      <td>s</td>\n",
       "      <td>w</td>\n",
       "      <td>w</td>\n",
       "      <td>p</td>\n",
       "      <td>w</td>\n",
       "      <td>o</td>\n",
       "      <td>p</td>\n",
       "      <td>n</td>\n",
       "      <td>n</td>\n",
       "      <td>g</td>\n",
       "    </tr>\n",
       "    <tr>\n",
       "      <th>2</th>\n",
       "      <td>e</td>\n",
       "      <td>b</td>\n",
       "      <td>s</td>\n",
       "      <td>w</td>\n",
       "      <td>t</td>\n",
       "      <td>l</td>\n",
       "      <td>f</td>\n",
       "      <td>c</td>\n",
       "      <td>b</td>\n",
       "      <td>n</td>\n",
       "      <td>...</td>\n",
       "      <td>s</td>\n",
       "      <td>w</td>\n",
       "      <td>w</td>\n",
       "      <td>p</td>\n",
       "      <td>w</td>\n",
       "      <td>o</td>\n",
       "      <td>p</td>\n",
       "      <td>n</td>\n",
       "      <td>n</td>\n",
       "      <td>m</td>\n",
       "    </tr>\n",
       "    <tr>\n",
       "      <th>3</th>\n",
       "      <td>p</td>\n",
       "      <td>x</td>\n",
       "      <td>y</td>\n",
       "      <td>w</td>\n",
       "      <td>t</td>\n",
       "      <td>p</td>\n",
       "      <td>f</td>\n",
       "      <td>c</td>\n",
       "      <td>n</td>\n",
       "      <td>n</td>\n",
       "      <td>...</td>\n",
       "      <td>s</td>\n",
       "      <td>w</td>\n",
       "      <td>w</td>\n",
       "      <td>p</td>\n",
       "      <td>w</td>\n",
       "      <td>o</td>\n",
       "      <td>p</td>\n",
       "      <td>k</td>\n",
       "      <td>s</td>\n",
       "      <td>u</td>\n",
       "    </tr>\n",
       "    <tr>\n",
       "      <th>4</th>\n",
       "      <td>e</td>\n",
       "      <td>x</td>\n",
       "      <td>s</td>\n",
       "      <td>g</td>\n",
       "      <td>f</td>\n",
       "      <td>n</td>\n",
       "      <td>f</td>\n",
       "      <td>w</td>\n",
       "      <td>b</td>\n",
       "      <td>k</td>\n",
       "      <td>...</td>\n",
       "      <td>s</td>\n",
       "      <td>w</td>\n",
       "      <td>w</td>\n",
       "      <td>p</td>\n",
       "      <td>w</td>\n",
       "      <td>o</td>\n",
       "      <td>e</td>\n",
       "      <td>n</td>\n",
       "      <td>a</td>\n",
       "      <td>g</td>\n",
       "    </tr>\n",
       "  </tbody>\n",
       "</table>\n",
       "<p>5 rows × 23 columns</p>\n",
       "</div>"
      ],
      "text/plain": [
       "  class cap-shape cap-surface cap-color bruises odor gill-attachment  \\\n",
       "0     p         x           s         n       t    p               f   \n",
       "1     e         x           s         y       t    a               f   \n",
       "2     e         b           s         w       t    l               f   \n",
       "3     p         x           y         w       t    p               f   \n",
       "4     e         x           s         g       f    n               f   \n",
       "\n",
       "  gill-spacing gill-size gill-color  ... stalk-surface-below-ring  \\\n",
       "0            c         n          k  ...                        s   \n",
       "1            c         b          k  ...                        s   \n",
       "2            c         b          n  ...                        s   \n",
       "3            c         n          n  ...                        s   \n",
       "4            w         b          k  ...                        s   \n",
       "\n",
       "  stalk-color-above-ring stalk-color-below-ring veil-type veil-color  \\\n",
       "0                      w                      w         p          w   \n",
       "1                      w                      w         p          w   \n",
       "2                      w                      w         p          w   \n",
       "3                      w                      w         p          w   \n",
       "4                      w                      w         p          w   \n",
       "\n",
       "  ring-number ring-type spore-print-color population habitat  \n",
       "0           o         p                 k          s       u  \n",
       "1           o         p                 n          n       g  \n",
       "2           o         p                 n          n       m  \n",
       "3           o         p                 k          s       u  \n",
       "4           o         e                 n          a       g  \n",
       "\n",
       "[5 rows x 23 columns]"
      ]
     },
     "execution_count": 3,
     "metadata": {},
     "output_type": "execute_result"
    }
   ],
   "source": [
    "df = pd.read_csv('mushrooms.csv')\n",
    "df.head()"
   ]
  },
  {
   "cell_type": "code",
   "execution_count": 4,
   "metadata": {},
   "outputs": [
    {
     "data": {
      "text/plain": [
       "(8124, 23)"
      ]
     },
     "execution_count": 4,
     "metadata": {},
     "output_type": "execute_result"
    }
   ],
   "source": [
    "df.shape"
   ]
  },
  {
   "cell_type": "code",
   "execution_count": 5,
   "metadata": {},
   "outputs": [
    {
     "data": {
      "text/plain": [
       "array(['p', 'e'], dtype=object)"
      ]
     },
     "execution_count": 5,
     "metadata": {},
     "output_type": "execute_result"
    }
   ],
   "source": [
    "df['class'].unique()"
   ]
  },
  {
   "cell_type": "code",
   "execution_count": 6,
   "metadata": {},
   "outputs": [
    {
     "data": {
      "text/plain": [
       "array([0, 1, 2, 3, 4, 5], dtype=int64)"
      ]
     },
     "execution_count": 6,
     "metadata": {},
     "output_type": "execute_result"
    }
   ],
   "source": [
    "np.unique(pd.factorize(df['cap-shape'])[0])"
   ]
  },
  {
   "cell_type": "markdown",
   "metadata": {},
   "source": [
    "#### Encode the Categorical Data into Numerical Data"
   ]
  },
  {
   "cell_type": "code",
   "execution_count": 7,
   "metadata": {},
   "outputs": [],
   "source": [
    "from sklearn.preprocessing import LabelEncoder\n",
    "from sklearn.model_selection import train_test_split"
   ]
  },
  {
   "cell_type": "code",
   "execution_count": 8,
   "metadata": {},
   "outputs": [],
   "source": [
    "##### le.fit_transform() - Fit label encoder and return encoded labels  ;  df.apply - apply a function along an axis of the dataframe"
   ]
  },
  {
   "cell_type": "code",
   "execution_count": 9,
   "metadata": {},
   "outputs": [],
   "source": [
    "le = LabelEncoder()\n",
    "\n",
    "# Applies transformation on each columns\n",
    "ds = df.apply(le.fit_transform, )"
   ]
  },
  {
   "cell_type": "code",
   "execution_count": 10,
   "metadata": {},
   "outputs": [
    {
     "data": {
      "text/plain": [
       "pandas.core.frame.DataFrame"
      ]
     },
     "execution_count": 10,
     "metadata": {},
     "output_type": "execute_result"
    }
   ],
   "source": [
    "type(ds)"
   ]
  },
  {
   "cell_type": "code",
   "execution_count": 11,
   "metadata": {},
   "outputs": [
    {
     "data": {
      "text/html": [
       "<div>\n",
       "<style scoped>\n",
       "    .dataframe tbody tr th:only-of-type {\n",
       "        vertical-align: middle;\n",
       "    }\n",
       "\n",
       "    .dataframe tbody tr th {\n",
       "        vertical-align: top;\n",
       "    }\n",
       "\n",
       "    .dataframe thead th {\n",
       "        text-align: right;\n",
       "    }\n",
       "</style>\n",
       "<table border=\"1\" class=\"dataframe\">\n",
       "  <thead>\n",
       "    <tr style=\"text-align: right;\">\n",
       "      <th></th>\n",
       "      <th>class</th>\n",
       "      <th>cap-shape</th>\n",
       "      <th>cap-surface</th>\n",
       "      <th>cap-color</th>\n",
       "      <th>bruises</th>\n",
       "      <th>odor</th>\n",
       "      <th>gill-attachment</th>\n",
       "      <th>gill-spacing</th>\n",
       "      <th>gill-size</th>\n",
       "      <th>gill-color</th>\n",
       "      <th>...</th>\n",
       "      <th>stalk-surface-below-ring</th>\n",
       "      <th>stalk-color-above-ring</th>\n",
       "      <th>stalk-color-below-ring</th>\n",
       "      <th>veil-type</th>\n",
       "      <th>veil-color</th>\n",
       "      <th>ring-number</th>\n",
       "      <th>ring-type</th>\n",
       "      <th>spore-print-color</th>\n",
       "      <th>population</th>\n",
       "      <th>habitat</th>\n",
       "    </tr>\n",
       "  </thead>\n",
       "  <tbody>\n",
       "    <tr>\n",
       "      <th>0</th>\n",
       "      <td>1</td>\n",
       "      <td>5</td>\n",
       "      <td>2</td>\n",
       "      <td>4</td>\n",
       "      <td>1</td>\n",
       "      <td>6</td>\n",
       "      <td>1</td>\n",
       "      <td>0</td>\n",
       "      <td>1</td>\n",
       "      <td>4</td>\n",
       "      <td>...</td>\n",
       "      <td>2</td>\n",
       "      <td>7</td>\n",
       "      <td>7</td>\n",
       "      <td>0</td>\n",
       "      <td>2</td>\n",
       "      <td>1</td>\n",
       "      <td>4</td>\n",
       "      <td>2</td>\n",
       "      <td>3</td>\n",
       "      <td>5</td>\n",
       "    </tr>\n",
       "    <tr>\n",
       "      <th>1</th>\n",
       "      <td>0</td>\n",
       "      <td>5</td>\n",
       "      <td>2</td>\n",
       "      <td>9</td>\n",
       "      <td>1</td>\n",
       "      <td>0</td>\n",
       "      <td>1</td>\n",
       "      <td>0</td>\n",
       "      <td>0</td>\n",
       "      <td>4</td>\n",
       "      <td>...</td>\n",
       "      <td>2</td>\n",
       "      <td>7</td>\n",
       "      <td>7</td>\n",
       "      <td>0</td>\n",
       "      <td>2</td>\n",
       "      <td>1</td>\n",
       "      <td>4</td>\n",
       "      <td>3</td>\n",
       "      <td>2</td>\n",
       "      <td>1</td>\n",
       "    </tr>\n",
       "    <tr>\n",
       "      <th>2</th>\n",
       "      <td>0</td>\n",
       "      <td>0</td>\n",
       "      <td>2</td>\n",
       "      <td>8</td>\n",
       "      <td>1</td>\n",
       "      <td>3</td>\n",
       "      <td>1</td>\n",
       "      <td>0</td>\n",
       "      <td>0</td>\n",
       "      <td>5</td>\n",
       "      <td>...</td>\n",
       "      <td>2</td>\n",
       "      <td>7</td>\n",
       "      <td>7</td>\n",
       "      <td>0</td>\n",
       "      <td>2</td>\n",
       "      <td>1</td>\n",
       "      <td>4</td>\n",
       "      <td>3</td>\n",
       "      <td>2</td>\n",
       "      <td>3</td>\n",
       "    </tr>\n",
       "    <tr>\n",
       "      <th>3</th>\n",
       "      <td>1</td>\n",
       "      <td>5</td>\n",
       "      <td>3</td>\n",
       "      <td>8</td>\n",
       "      <td>1</td>\n",
       "      <td>6</td>\n",
       "      <td>1</td>\n",
       "      <td>0</td>\n",
       "      <td>1</td>\n",
       "      <td>5</td>\n",
       "      <td>...</td>\n",
       "      <td>2</td>\n",
       "      <td>7</td>\n",
       "      <td>7</td>\n",
       "      <td>0</td>\n",
       "      <td>2</td>\n",
       "      <td>1</td>\n",
       "      <td>4</td>\n",
       "      <td>2</td>\n",
       "      <td>3</td>\n",
       "      <td>5</td>\n",
       "    </tr>\n",
       "    <tr>\n",
       "      <th>4</th>\n",
       "      <td>0</td>\n",
       "      <td>5</td>\n",
       "      <td>2</td>\n",
       "      <td>3</td>\n",
       "      <td>0</td>\n",
       "      <td>5</td>\n",
       "      <td>1</td>\n",
       "      <td>1</td>\n",
       "      <td>0</td>\n",
       "      <td>4</td>\n",
       "      <td>...</td>\n",
       "      <td>2</td>\n",
       "      <td>7</td>\n",
       "      <td>7</td>\n",
       "      <td>0</td>\n",
       "      <td>2</td>\n",
       "      <td>1</td>\n",
       "      <td>0</td>\n",
       "      <td>3</td>\n",
       "      <td>0</td>\n",
       "      <td>1</td>\n",
       "    </tr>\n",
       "  </tbody>\n",
       "</table>\n",
       "<p>5 rows × 23 columns</p>\n",
       "</div>"
      ],
      "text/plain": [
       "   class  cap-shape  cap-surface  cap-color  bruises  odor  gill-attachment  \\\n",
       "0      1          5            2          4        1     6                1   \n",
       "1      0          5            2          9        1     0                1   \n",
       "2      0          0            2          8        1     3                1   \n",
       "3      1          5            3          8        1     6                1   \n",
       "4      0          5            2          3        0     5                1   \n",
       "\n",
       "   gill-spacing  gill-size  gill-color  ...  stalk-surface-below-ring  \\\n",
       "0             0          1           4  ...                         2   \n",
       "1             0          0           4  ...                         2   \n",
       "2             0          0           5  ...                         2   \n",
       "3             0          1           5  ...                         2   \n",
       "4             1          0           4  ...                         2   \n",
       "\n",
       "   stalk-color-above-ring  stalk-color-below-ring  veil-type  veil-color  \\\n",
       "0                       7                       7          0           2   \n",
       "1                       7                       7          0           2   \n",
       "2                       7                       7          0           2   \n",
       "3                       7                       7          0           2   \n",
       "4                       7                       7          0           2   \n",
       "\n",
       "   ring-number  ring-type  spore-print-color  population  habitat  \n",
       "0            1          4                  2           3        5  \n",
       "1            1          4                  3           2        1  \n",
       "2            1          4                  3           2        3  \n",
       "3            1          4                  2           3        5  \n",
       "4            1          0                  3           0        1  \n",
       "\n",
       "[5 rows x 23 columns]"
      ]
     },
     "execution_count": 11,
     "metadata": {},
     "output_type": "execute_result"
    }
   ],
   "source": [
    "ds.head()"
   ]
  },
  {
   "cell_type": "code",
   "execution_count": 12,
   "metadata": {},
   "outputs": [
    {
     "name": "stdout",
     "output_type": "stream",
     "text": [
      "<class 'numpy.ndarray'>\n",
      "(8124, 23)\n",
      "[[1 5 2 4 1 6 1 0 1 4 0 3 2 2 7 7 0 2 1 4 2 3 5]\n",
      " [0 5 2 9 1 0 1 0 0 4 0 2 2 2 7 7 0 2 1 4 3 2 1]\n",
      " [0 0 2 8 1 3 1 0 0 5 0 2 2 2 7 7 0 2 1 4 3 2 3]\n",
      " [1 5 3 8 1 6 1 0 1 5 0 3 2 2 7 7 0 2 1 4 2 3 5]\n",
      " [0 5 2 3 0 5 1 1 0 4 1 3 2 2 7 7 0 2 1 0 3 0 1]]\n"
     ]
    }
   ],
   "source": [
    "data = ds.values\n",
    "\n",
    "print(type(data))\n",
    "print(data.shape)\n",
    "print(data[:5 , :])"
   ]
  },
  {
   "cell_type": "code",
   "execution_count": 13,
   "metadata": {},
   "outputs": [],
   "source": [
    "x_data = data[: , 1:]\n",
    "y_data = data[: , 0]"
   ]
  },
  {
   "cell_type": "code",
   "execution_count": 14,
   "metadata": {},
   "outputs": [],
   "source": [
    "x_train , x_test , y_train , y_test = train_test_split(x_data , y_data , test_size = 0.2)"
   ]
  },
  {
   "cell_type": "code",
   "execution_count": 15,
   "metadata": {},
   "outputs": [
    {
     "name": "stdout",
     "output_type": "stream",
     "text": [
      "(6499, 22) (6499,)\n",
      "(1625, 22) (1625,)\n"
     ]
    }
   ],
   "source": [
    "print(x_train.shape , y_train.shape)\n",
    "print(x_test.shape , y_test.shape)"
   ]
  },
  {
   "cell_type": "code",
   "execution_count": 16,
   "metadata": {},
   "outputs": [
    {
     "data": {
      "text/plain": [
       "array([0, 1])"
      ]
     },
     "execution_count": 16,
     "metadata": {},
     "output_type": "execute_result"
    }
   ],
   "source": [
    "np.unique(y_train)"
   ]
  },
  {
   "cell_type": "markdown",
   "metadata": {},
   "source": [
    "check for scikit learn's inverse transform function which gives inverse mapping i.e get categorical data from numerical"
   ]
  },
  {
   "cell_type": "code",
   "execution_count": 18,
   "metadata": {},
   "outputs": [
    {
     "data": {
      "text/plain": [
       "0       x\n",
       "1       x\n",
       "2       b\n",
       "3       x\n",
       "4       x\n",
       "       ..\n",
       "8119    k\n",
       "8120    x\n",
       "8121    f\n",
       "8122    k\n",
       "8123    x\n",
       "Name: cap-shape, Length: 8124, dtype: object"
      ]
     },
     "execution_count": 18,
     "metadata": {},
     "output_type": "execute_result"
    }
   ],
   "source": [
    "df['cap-shape']"
   ]
  },
  {
   "cell_type": "code",
   "execution_count": 19,
   "metadata": {},
   "outputs": [
    {
     "data": {
      "text/plain": [
       "array([5, 5, 0, ..., 2, 3, 5])"
      ]
     },
     "execution_count": 19,
     "metadata": {},
     "output_type": "execute_result"
    }
   ],
   "source": [
    "le = LabelEncoder()\n",
    "c = le.fit_transform(df['cap-shape'])\n",
    "c"
   ]
  },
  {
   "cell_type": "code",
   "execution_count": 20,
   "metadata": {},
   "outputs": [
    {
     "data": {
      "text/plain": [
       "array(['x', 'x', 'b', ..., 'f', 'k', 'x'], dtype=object)"
      ]
     },
     "execution_count": 20,
     "metadata": {},
     "output_type": "execute_result"
    }
   ],
   "source": [
    "le.inverse_transform(c)"
   ]
  },
  {
   "cell_type": "markdown",
   "metadata": {},
   "source": [
    "#### BUILDING OUR CLASSIFIER !"
   ]
  },
  {
   "cell_type": "code",
   "execution_count": 21,
   "metadata": {},
   "outputs": [
    {
     "name": "stdout",
     "output_type": "stream",
     "text": [
      "[False  True  True  True  True  True False  True]\n",
      "6\n"
     ]
    }
   ],
   "source": [
    "a = np.array([0,5,5,1,1,1,0,1])\n",
    "\n",
    "print(a>=1)\n",
    "print(np.sum(a>=1))"
   ]
  },
  {
   "cell_type": "code",
   "execution_count": 22,
   "metadata": {},
   "outputs": [],
   "source": [
    "def prior_prob(y_train , label):        # prior probability\n",
    "    \n",
    "    total_examples = y_train.shape[0]\n",
    "    class_examples = np.sum(y_train == label)\n",
    "    \n",
    "    return (class_examples)/float(total_examples)"
   ]
  },
  {
   "cell_type": "code",
   "execution_count": 23,
   "metadata": {},
   "outputs": [
    {
     "data": {
      "text/plain": [
       "0.5"
      ]
     },
     "execution_count": 23,
     "metadata": {},
     "output_type": "execute_result"
    }
   ],
   "source": [
    "prior_prob(a , 1)"
   ]
  },
  {
   "cell_type": "markdown",
   "metadata": {},
   "source": [
    "![prob.PNG](data:image/png;base64,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)"
   ]
  },
  {
   "cell_type": "code",
   "execution_count": 24,
   "metadata": {},
   "outputs": [],
   "source": [
    "def cond_prob(x_train , y_train , feature_col, feature_val , label):    # conditional probability\n",
    "    \n",
    "    x_filtered = x_train[y_train == label]   # filter all rows in x data where y train = label (say 2)\n",
    "    \n",
    "    numerator = np.sum(x_filtered[:,feature_col] == feature_val)   # get those columns which have the specified feature value\n",
    "    \n",
    "    denominator = np.sum(y_train == label)    # get y train column with particular label (say 2)\n",
    "    \n",
    "    return numerator/float(denominator)"
   ]
  },
  {
   "cell_type": "markdown",
   "metadata": {},
   "source": [
    "#### COMPUTE POSTERIOR PROBABILITY FOR EACH TEST SAMPLE AND MAKE PREDICTIONS"
   ]
  },
  {
   "cell_type": "code",
   "execution_count": 26,
   "metadata": {},
   "outputs": [],
   "source": [
    "# we need to calculate conditional probability for each feature of testing point by iterating over it\n",
    "# print(x_test[0])\n",
    "# [5 3 4 1 6 1 0 1 7 0 3 2 2 7 7 0 2 1 4 2 3 5]  - feature_val"
   ]
  },
  {
   "cell_type": "code",
   "execution_count": 27,
   "metadata": {},
   "outputs": [],
   "source": [
    "# given a new mushroom with n features , predict its class\n",
    "\n",
    "def predict(x_train , y_train , x_test):\n",
    "    \n",
    "    classes = np.unique(y_train)         # 0 and 1\n",
    "    n_features = x_train.shape[1]        # no of features\n",
    "    \n",
    "    post_probs = []   # List of probability for all classes and given a single testing point\n",
    "    \n",
    "    # Compute posterior probability for each class - likelihood*prior\n",
    "    for label in classes:\n",
    "        \n",
    "        likelihood = 1.0\n",
    "        \n",
    "        # conditional probability across all features - f is feature column and x_test[f] all feature values\n",
    "        for f in range(n_features):\n",
    "            \n",
    "            cond = cond_prob(x_train , y_train , f , x_test[f] , label)\n",
    "            \n",
    "            likelihood *= cond\n",
    "            \n",
    "        prior = prior_prob(y_train , label)\n",
    "        \n",
    "        # post is the probability for current class\n",
    "        post = likelihood*prior\n",
    "        post_probs.append(post)\n",
    "            \n",
    "    pred = np.argmax(post_probs)\n",
    "    return pred\n",
    "    #return pred , post , post_probs\n",
    " "
   ]
  },
  {
   "cell_type": "code",
   "execution_count": 28,
   "metadata": {},
   "outputs": [
    {
     "data": {
      "text/plain": [
       "0"
      ]
     },
     "execution_count": 28,
     "metadata": {},
     "output_type": "execute_result"
    }
   ],
   "source": [
    "output = predict(x_train , y_train , x_test[0])\n",
    "output"
   ]
  },
  {
   "cell_type": "code",
   "execution_count": 29,
   "metadata": {},
   "outputs": [
    {
     "data": {
      "text/plain": [
       "0"
      ]
     },
     "execution_count": 29,
     "metadata": {},
     "output_type": "execute_result"
    }
   ],
   "source": [
    "y_test[0]"
   ]
  },
  {
   "cell_type": "code",
   "execution_count": 30,
   "metadata": {},
   "outputs": [],
   "source": [
    "def score(x_train , y_train , x_test , y_test):\n",
    "    \n",
    "    pred = []     # make an array of predictions of all training samples and match it with actual y_test predictions\n",
    "    \n",
    "    for i in range(x_test.shape[0]):\n",
    "        \n",
    "        pred_label = predict(x_train , y_train , x_test[i])\n",
    "        pred.append(pred_label)\n",
    "        \n",
    "    pred = np.array(pred)\n",
    "    \n",
    "    accuracy = np.sum(pred == y_test)/y_test.shape[0]    # both are vectors\n",
    "    return accuracy"
   ]
  },
  {
   "cell_type": "code",
   "execution_count": 31,
   "metadata": {},
   "outputs": [
    {
     "data": {
      "text/plain": [
       "0.9981538461538462"
      ]
     },
     "execution_count": 31,
     "metadata": {},
     "output_type": "execute_result"
    }
   ],
   "source": [
    "# Total number of items which are classified accurately\n",
    "\n",
    "score(x_train , y_train , x_test , y_test)    # very good accuracy for binary classification using naive bayes"
   ]
  },
  {
   "cell_type": "code",
   "execution_count": null,
   "metadata": {},
   "outputs": [],
   "source": []
  },
  {
   "cell_type": "markdown",
   "metadata": {},
   "source": [
    "### Gaussian Naive Bayes - Handling Continuous Valued Features"
   ]
  },
  {
   "cell_type": "code",
   "execution_count": 32,
   "metadata": {},
   "outputs": [],
   "source": [
    "from sklearn.datasets import load_iris\n",
    "iris = load_iris()"
   ]
  },
  {
   "cell_type": "code",
   "execution_count": 33,
   "metadata": {},
   "outputs": [
    {
     "data": {
      "text/plain": [
       "array([[5.1, 3.5, 1.4, 0.2],\n",
       "       [4.9, 3. , 1.4, 0.2],\n",
       "       [4.7, 3.2, 1.3, 0.2],\n",
       "       [4.6, 3.1, 1.5, 0.2],\n",
       "       [5. , 3.6, 1.4, 0.2],\n",
       "       [5.4, 3.9, 1.7, 0.4],\n",
       "       [4.6, 3.4, 1.4, 0.3],\n",
       "       [5. , 3.4, 1.5, 0.2],\n",
       "       [4.4, 2.9, 1.4, 0.2],\n",
       "       [4.9, 3.1, 1.5, 0.1]])"
      ]
     },
     "execution_count": 33,
     "metadata": {},
     "output_type": "execute_result"
    }
   ],
   "source": [
    "iris.data[:10]"
   ]
  },
  {
   "cell_type": "code",
   "execution_count": 34,
   "metadata": {},
   "outputs": [],
   "source": [
    "from sklearn.naive_bayes import GaussianNB   # work on iris dataset"
   ]
  },
  {
   "cell_type": "code",
   "execution_count": 35,
   "metadata": {},
   "outputs": [
    {
     "data": {
      "text/plain": [
       "GaussianNB()"
      ]
     },
     "execution_count": 35,
     "metadata": {},
     "output_type": "execute_result"
    }
   ],
   "source": [
    "gnb = GaussianNB()\n",
    "gnb"
   ]
  },
  {
   "cell_type": "code",
   "execution_count": 36,
   "metadata": {},
   "outputs": [],
   "source": [
    "# generating data\n",
    "\n",
    "from sklearn.datasets import make_classification\n",
    "import numpy as np\n",
    "import matplotlib.pyplot as plt"
   ]
  },
  {
   "cell_type": "code",
   "execution_count": 37,
   "metadata": {},
   "outputs": [],
   "source": [
    "x , y = make_classification(n_samples=200 , n_features=2 , n_informative=2 , n_redundant=0 , random_state=4)"
   ]
  },
  {
   "cell_type": "code",
   "execution_count": 38,
   "metadata": {},
   "outputs": [
    {
     "data": {
      "image/png": "[encoded data removed]",
      "text/plain": [
       "<Figure size 432x288 with 1 Axes>"
      ]
     },
     "metadata": {
      "needs_background": "light"
     },
     "output_type": "display_data"
    }
   ],
   "source": [
    "plt.scatter(x[ : , 0] , x[ : , 1] , c = y)\n",
    "plt.show()"
   ]
  },
  {
   "cell_type": "code",
   "execution_count": 39,
   "metadata": {},
   "outputs": [
    {
     "name": "stdout",
     "output_type": "stream",
     "text": [
      "(200, 2)\n",
      "(200,)\n",
      "[-1.36748138 -2.18619146]\n"
     ]
    }
   ],
   "source": [
    "print(x.shape)\n",
    "print(y.shape)\n",
    "print(x[0])     # continuous value features"
   ]
  },
  {
   "cell_type": "code",
   "execution_count": 40,
   "metadata": {},
   "outputs": [
    {
     "data": {
      "text/plain": [
       "GaussianNB()"
      ]
     },
     "execution_count": 40,
     "metadata": {},
     "output_type": "execute_result"
    }
   ],
   "source": [
    "# Train our Classifier\n",
    "\n",
    "gnb.fit(x , y)"
   ]
  },
  {
   "cell_type": "code",
   "execution_count": 41,
   "metadata": {},
   "outputs": [
    {
     "data": {
      "text/plain": [
       "0.9"
      ]
     },
     "execution_count": 41,
     "metadata": {},
     "output_type": "execute_result"
    }
   ],
   "source": [
    "gnb.score(x , y)  # Return the mean accuracy on the given test data and labels."
   ]
  },
  {
   "cell_type": "code",
   "execution_count": 42,
   "metadata": {},
   "outputs": [
    {
     "data": {
      "text/plain": [
       "array([0, 0, 0, 1, 0, 1, 0, 0, 1, 0, 1, 1, 0, 0, 1, 0, 0, 0, 0, 1, 0, 0,\n",
       "       0, 1, 1, 1, 1, 0, 0, 0, 1, 1, 1, 1, 1, 1, 0, 1, 0, 0, 0, 1, 1, 1,\n",
       "       0, 1, 0, 1, 0, 1, 0, 1, 0, 0, 1, 1, 1, 0, 0, 1, 0, 0, 1, 1, 0, 1,\n",
       "       0, 0, 1, 0, 1, 0, 1, 1, 1, 0, 1, 0, 0, 1, 0, 1, 0, 1, 1, 1, 0, 0,\n",
       "       1, 0, 1, 0, 1, 1, 1, 1, 1, 1, 0, 1, 0, 1, 0, 1, 1, 0, 0, 1, 1, 0,\n",
       "       0, 1, 1, 0, 0, 0, 1, 0, 1, 0, 1, 1, 1, 0, 0, 0, 1, 0, 1, 1, 1, 1,\n",
       "       0, 1, 1, 0, 0, 0, 1, 1, 1, 1, 0, 1, 1, 0, 0, 1, 1, 1, 1, 1, 0, 0,\n",
       "       0, 1, 1, 1, 0, 1, 0, 0, 1, 1, 0, 1, 1, 0, 0, 0, 0, 0, 0, 1, 0, 0,\n",
       "       1, 1, 0, 0, 1, 1, 0, 0, 0, 1, 1, 1, 1, 0, 0, 0, 1, 1, 0, 0, 1, 1,\n",
       "       0, 1])"
      ]
     },
     "execution_count": 42,
     "metadata": {},
     "output_type": "execute_result"
    }
   ],
   "source": [
    "y_pred = gnb.predict(x)\n",
    "y_pred"
   ]
  },
  {
   "cell_type": "code",
   "execution_count": 43,
   "metadata": {},
   "outputs": [
    {
     "name": "stdout",
     "output_type": "stream",
     "text": [
      "[0 0 0 1 0 1 0 0 1 0 1 1 1 0 1 0 0 0 0 1 0 0 0 1 1 1 1 0 0 0 1 1 0 1 1 1 1\n",
      " 1 0 0 0 1 1 1 0 1 0 1 1 1 0 1 0 0 1 1 1 0 0 1 0 0 1 1 0 1 0 0 1 0 1 0 1 0\n",
      " 1 0 1 0 0 0 0 1 0 1 1 1 0 0 1 0 1 0 1 1 1 1 1 1 0 1 1 1 0 1 1 0 0 1 1 0 0\n",
      " 1 1 0 1 0 0 0 1 0 1 1 1 1 0 0 1 0 1 1 1 1 0 1 1 0 0 0 1 1 1 1 0 1 0 0 0 1\n",
      " 0 1 1 1 0 0 1 0 1 0 0 1 0 0 1 1 0 0 1 0 0 0 0 0 0 1 1 1 1 0 0 0 0 1 0 0 0\n",
      " 1 1 1 1 0 0 0 1 1 0 0 1 1 0 1]\n"
     ]
    }
   ],
   "source": [
    "print(y)"
   ]
  },
  {
   "cell_type": "code",
   "execution_count": 44,
   "metadata": {},
   "outputs": [
    {
     "data": {
      "text/plain": [
       "0.9"
      ]
     },
     "execution_count": 44,
     "metadata": {},
     "output_type": "execute_result"
    }
   ],
   "source": [
    "np.sum(y_pred == y)/x.shape[0]"
   ]
  },
  {
   "cell_type": "markdown",
   "metadata": {},
   "source": [
    "### MNIST Classification - Multinomial Vs Gaussian Naive Bayes"
   ]
  },
  {
   "cell_type": "code",
   "execution_count": 47,
   "metadata": {},
   "outputs": [],
   "source": [
    "from sklearn.datasets import load_digits\n",
    "from sklearn.model_selection import cross_val_score"
   ]
  },
  {
   "cell_type": "code",
   "execution_count": 48,
   "metadata": {},
   "outputs": [],
   "source": [
    "# Load the Sklearn MNIST Dataset\n",
    "digits = load_digits()"
   ]
  },
  {
   "cell_type": "code",
   "execution_count": 49,
   "metadata": {},
   "outputs": [
    {
     "name": "stdout",
     "output_type": "stream",
     "text": [
      "(1797, 64) \t (1797,)\n"
     ]
    }
   ],
   "source": [
    "x = digits.data      # 8x8 image\n",
    "y = digits.target\n",
    "\n",
    "print(x.shape , '\\t' , y.shape)"
   ]
  },
  {
   "cell_type": "code",
   "execution_count": 50,
   "metadata": {},
   "outputs": [
    {
     "data": {
      "image/png": "[encoded data removed]",
      "text/plain": [
       "<Figure size 432x288 with 1 Axes>"
      ]
     },
     "metadata": {
      "needs_background": "light"
     },
     "output_type": "display_data"
    }
   ],
   "source": [
    "plt.imshow(x[1].reshape((8,8)) , cmap = 'gray')\n",
    "plt.title(y[1])\n",
    "plt.show()"
   ]
  },
  {
   "cell_type": "code",
   "execution_count": 51,
   "metadata": {},
   "outputs": [
    {
     "data": {
      "text/plain": [
       "array([ 0.,  0.,  5., 13.,  9.,  1.,  0.,  0.,  0.,  0., 13., 15., 10.,\n",
       "       15.,  5.,  0.,  0.,  3., 15.,  2.,  0., 11.,  8.,  0.,  0.,  4.,\n",
       "       12.,  0.,  0.,  8.,  8.,  0.,  0.,  5.,  8.,  0.,  0.,  9.,  8.,\n",
       "        0.,  0.,  4., 11.,  0.,  1., 12.,  7.,  0.,  0.,  2., 14.,  5.,\n",
       "       10., 12.,  0.,  0.,  0.,  0.,  6., 13., 10.,  0.,  0.,  0.])"
      ]
     },
     "execution_count": 51,
     "metadata": {},
     "output_type": "execute_result"
    }
   ],
   "source": [
    "x[0]   # discrete values"
   ]
  },
  {
   "cell_type": "markdown",
   "metadata": {},
   "source": [
    "#### Train Model"
   ]
  },
  {
   "cell_type": "code",
   "execution_count": 52,
   "metadata": {},
   "outputs": [],
   "source": [
    "from sklearn.naive_bayes import GaussianNB , MultinomialNB"
   ]
  },
  {
   "cell_type": "code",
   "execution_count": 53,
   "metadata": {},
   "outputs": [],
   "source": [
    "gnb = GaussianNB()"
   ]
  },
  {
   "cell_type": "code",
   "execution_count": 54,
   "metadata": {},
   "outputs": [],
   "source": [
    "mnb = MultinomialNB()"
   ]
  },
  {
   "cell_type": "code",
   "execution_count": 55,
   "metadata": {},
   "outputs": [
    {
     "data": {
      "text/plain": [
       "MultinomialNB()"
      ]
     },
     "execution_count": 55,
     "metadata": {},
     "output_type": "execute_result"
    }
   ],
   "source": [
    "gnb.fit(x , y)\n",
    "mnb.fit(x , y)"
   ]
  },
  {
   "cell_type": "code",
   "execution_count": 56,
   "metadata": {},
   "outputs": [
    {
     "name": "stdout",
     "output_type": "stream",
     "text": [
      "Gaussian NB Accuracy\n"
     ]
    },
    {
     "data": {
      "text/plain": [
       "0.8580968280467446"
      ]
     },
     "execution_count": 56,
     "metadata": {},
     "output_type": "execute_result"
    }
   ],
   "source": [
    "print('Gaussian NB Accuracy')\n",
    "gnb.score(x , y)"
   ]
  },
  {
   "cell_type": "code",
   "execution_count": 57,
   "metadata": {},
   "outputs": [
    {
     "name": "stdout",
     "output_type": "stream",
     "text": [
      "Multinomial NB Accuracy\n"
     ]
    },
    {
     "data": {
      "text/plain": [
       "0.9053978853644964"
      ]
     },
     "execution_count": 57,
     "metadata": {},
     "output_type": "execute_result"
    }
   ],
   "source": [
    "print('Multinomial NB Accuracy')\n",
    "mnb.score(x , y)"
   ]
  },
  {
   "cell_type": "code",
   "execution_count": 58,
   "metadata": {},
   "outputs": [
    {
     "data": {
      "text/plain": [
       "0.8113904407200497"
      ]
     },
     "execution_count": 58,
     "metadata": {},
     "output_type": "execute_result"
    }
   ],
   "source": [
    "cross_val_score(gnb , x , y , scoring='accuracy' , cv=10).mean()"
   ]
  },
  {
   "cell_type": "code",
   "execution_count": 59,
   "metadata": {},
   "outputs": [
    {
     "data": {
      "text/plain": [
       "0.8797858472998138"
      ]
     },
     "execution_count": 59,
     "metadata": {},
     "output_type": "execute_result"
    }
   ],
   "source": [
    "cross_val_score(mnb , x , y , scoring='accuracy' , cv=10).mean()"
   ]
  },
  {
   "cell_type": "markdown",
   "metadata": {},
   "source": [
    "Since each feature is discrete valued . Hence MNB gives better results"
   ]
  },
  {
   "cell_type": "code",
   "execution_count": null,
   "metadata": {},
   "outputs": [],
   "source": []
  },
  {
   "cell_type": "markdown",
   "metadata": {},
   "source": [
    "### Importing libraries and Loading the dataset"
   ]
  },
  {
   "cell_type": "code",
   "execution_count": 54,
   "metadata": {},
   "outputs": [],
   "source": [
    "import pandas as pd\n",
    "import numpy as np\n",
    "import seaborn as sns\n",
    "import matplotlib.pyplot as plt\n",
    "import warnings\n",
    "warnings.filterwarnings(\"ignore\")"
   ]
  },
  {
   "cell_type": "code",
   "execution_count": 55,
   "metadata": {},
   "outputs": [
    {
     "data": {
      "text/html": [
       "<div>\n",
       "<style scoped>\n",
       "    .dataframe tbody tr th:only-of-type {\n",
       "        vertical-align: middle;\n",
       "    }\n",
       "\n",
       "    .dataframe tbody tr th {\n",
       "        vertical-align: top;\n",
       "    }\n",
       "\n",
       "    .dataframe thead th {\n",
       "        text-align: right;\n",
       "    }\n",
       "</style>\n",
       "<table border=\"1\" class=\"dataframe\">\n",
       "  <thead>\n",
       "    <tr style=\"text-align: right;\">\n",
       "      <th></th>\n",
       "      <th>Text</th>\n",
       "      <th>Language</th>\n",
       "    </tr>\n",
       "  </thead>\n",
       "  <tbody>\n",
       "    <tr>\n",
       "      <th>0</th>\n",
       "      <td>Nature, in the broadest sense, is the natural...</td>\n",
       "      <td>English</td>\n",
       "    </tr>\n",
       "    <tr>\n",
       "      <th>1</th>\n",
       "      <td>\"Nature\" can refer to the phenomena of the phy...</td>\n",
       "      <td>English</td>\n",
       "    </tr>\n",
       "    <tr>\n",
       "      <th>2</th>\n",
       "      <td>The study of nature is a large, if not the onl...</td>\n",
       "      <td>English</td>\n",
       "    </tr>\n",
       "    <tr>\n",
       "      <th>3</th>\n",
       "      <td>Although humans are part of nature, human acti...</td>\n",
       "      <td>English</td>\n",
       "    </tr>\n",
       "    <tr>\n",
       "      <th>4</th>\n",
       "      <td>[1] The word nature is borrowed from the Old F...</td>\n",
       "      <td>English</td>\n",
       "    </tr>\n",
       "    <tr>\n",
       "      <th>5</th>\n",
       "      <td>[2] In ancient philosophy, natura is mostly us...</td>\n",
       "      <td>English</td>\n",
       "    </tr>\n",
       "    <tr>\n",
       "      <th>6</th>\n",
       "      <td>[3][4] \\nThe concept of nature as a whole, the...</td>\n",
       "      <td>English</td>\n",
       "    </tr>\n",
       "    <tr>\n",
       "      <th>7</th>\n",
       "      <td>During the advent of modern scientific method ...</td>\n",
       "      <td>English</td>\n",
       "    </tr>\n",
       "    <tr>\n",
       "      <th>8</th>\n",
       "      <td>[5][6] With the Industrial revolution, nature ...</td>\n",
       "      <td>English</td>\n",
       "    </tr>\n",
       "    <tr>\n",
       "      <th>9</th>\n",
       "      <td>However, a vitalist vision of nature, closer t...</td>\n",
       "      <td>English</td>\n",
       "    </tr>\n",
       "  </tbody>\n",
       "</table>\n",
       "</div>"
      ],
      "text/plain": [
       "                                                Text Language\n",
       "0   Nature, in the broadest sense, is the natural...  English\n",
       "1  \"Nature\" can refer to the phenomena of the phy...  English\n",
       "2  The study of nature is a large, if not the onl...  English\n",
       "3  Although humans are part of nature, human acti...  English\n",
       "4  [1] The word nature is borrowed from the Old F...  English\n",
       "5  [2] In ancient philosophy, natura is mostly us...  English\n",
       "6  [3][4] \\nThe concept of nature as a whole, the...  English\n",
       "7  During the advent of modern scientific method ...  English\n",
       "8  [5][6] With the Industrial revolution, nature ...  English\n",
       "9  However, a vitalist vision of nature, closer t...  English"
      ]
     },
     "execution_count": 55,
     "metadata": {},
     "output_type": "execute_result"
    }
   ],
   "source": [
    "data = pd.read_csv('Language Detection.csv')\n",
    "data.head(10)"
   ]
  },
  {
   "cell_type": "code",
   "execution_count": 56,
   "metadata": {
    "scrolled": true
   },
   "outputs": [
    {
     "data": {
      "text/plain": [
       "English       1385\n",
       "French        1014\n",
       "Spanish        819\n",
       "Portugeese     739\n",
       "Italian        698\n",
       "Russian        692\n",
       "Sweedish       676\n",
       "Malayalam      594\n",
       "Dutch          546\n",
       "Arabic         536\n",
       "Turkish        474\n",
       "German         470\n",
       "Tamil          469\n",
       "Danish         428\n",
       "Kannada        369\n",
       "Greek          365\n",
       "Hindi           63\n",
       "Name: Language, dtype: int64"
      ]
     },
     "execution_count": 56,
     "metadata": {},
     "output_type": "execute_result"
    }
   ],
   "source": [
    "data['Language'].value_counts()"
   ]
  },
  {
   "cell_type": "code",
   "execution_count": 57,
   "metadata": {},
   "outputs": [
    {
     "data": {
      "text/plain": [
       "17"
      ]
     },
     "execution_count": 57,
     "metadata": {},
     "output_type": "execute_result"
    }
   ],
   "source": [
    "data['Language'].nunique()"
   ]
  },
  {
   "cell_type": "markdown",
   "metadata": {},
   "source": [
    "So, this dataset contains text details for 17 different languages."
   ]
  },
  {
   "cell_type": "code",
   "execution_count": 58,
   "metadata": {},
   "outputs": [
    {
     "data": {
      "text/plain": [
       "(10337, 2)"
      ]
     },
     "execution_count": 58,
     "metadata": {},
     "output_type": "execute_result"
    }
   ],
   "source": [
    "data.shape"
   ]
  },
  {
   "cell_type": "markdown",
   "metadata": {},
   "source": [
    "### Text Preprocessing and Cleaning"
   ]
  },
  {
   "cell_type": "code",
   "execution_count": 59,
   "metadata": {},
   "outputs": [],
   "source": [
    "import re\n",
    "from nltk.tokenize import word_tokenize\n",
    "from nltk.corpus import stopwords"
   ]
  },
  {
   "cell_type": "code",
   "execution_count": 60,
   "metadata": {},
   "outputs": [],
   "source": [
    "sw = set(stopwords.words())"
   ]
  },
  {
   "cell_type": "code",
   "execution_count": 61,
   "metadata": {},
   "outputs": [
    {
     "data": {
      "text/plain": [
       "6287"
      ]
     },
     "execution_count": 61,
     "metadata": {},
     "output_type": "execute_result"
    }
   ],
   "source": [
    "import string\n",
    "punc = list(string.punctuation)\n",
    "sw.update(punc)\n",
    "len(sw)"
   ]
  },
  {
   "cell_type": "code",
   "execution_count": 62,
   "metadata": {},
   "outputs": [],
   "source": [
    "corpus = []\n",
    "\n",
    "for i in range(data.shape[0]):\n",
    "    \n",
    "    # Remove punctuation marks , numbers etc\n",
    "    text = re.sub(r'[!@#$(),\\n\"%^*?:;~`0-9]' , ' ' , data['Text'][i])\n",
    "    text = text.replace('[ ]' , '')\n",
    "    text = text.lower()\n",
    "    \n",
    "    text = ' '.join(word_tokenize(text))\n",
    "    corpus.append(text)"
   ]
  },
  {
   "cell_type": "code",
   "execution_count": 63,
   "metadata": {
    "scrolled": true
   },
   "outputs": [
    {
     "data": {
      "text/plain": [
       "'[3][4] \\nThe concept of nature as a whole, the physical universe, is one of several expansions of the original notion;[1] it began with certain core applications of the word φύσις by pre-Socratic philosophers (though this word had a dynamic dimension then, especially for Heraclitus), and has steadily gained currency ever since.'"
      ]
     },
     "execution_count": 63,
     "metadata": {},
     "output_type": "execute_result"
    }
   ],
   "source": [
    "data['Text'][6]"
   ]
  },
  {
   "cell_type": "code",
   "execution_count": 64,
   "metadata": {},
   "outputs": [
    {
     "data": {
      "text/plain": [
       "'the concept of nature as a whole the physical universe is one of several expansions of the original notion it began with certain core applications of the word φύσις by pre-socratic philosophers though this word had a dynamic dimension then especially for heraclitus and has steadily gained currency ever since .'"
      ]
     },
     "execution_count": 64,
     "metadata": {},
     "output_type": "execute_result"
    }
   ],
   "source": [
    "corpus[6]"
   ]
  },
  {
   "cell_type": "markdown",
   "metadata": {},
   "source": [
    "### Label Encoding\n",
    "- The output variable - the name of languages is a categorical variable. For training the model we need to convert it into a numerical form, so we are performing label encoding on that output variable."
   ]
  },
  {
   "cell_type": "code",
   "execution_count": 65,
   "metadata": {},
   "outputs": [],
   "source": [
    "from sklearn.preprocessing import LabelEncoder\n",
    "\n",
    "le = LabelEncoder()\n",
    "y = le.fit_transform(data['Language'])"
   ]
  },
  {
   "cell_type": "code",
   "execution_count": 66,
   "metadata": {},
   "outputs": [
    {
     "data": {
      "text/plain": [
       "(array([ 0,  1,  2,  3,  4,  5,  6,  7,  8,  9, 10, 11, 12, 13, 14, 15, 16]),\n",
       " array([ 536,  428,  546, 1385, 1014,  470,  365,   63,  698,  369,  594,\n",
       "         739,  692,  819,  676,  469,  474], dtype=int64))"
      ]
     },
     "execution_count": 66,
     "metadata": {},
     "output_type": "execute_result"
    }
   ],
   "source": [
    "np.unique(y , return_counts = True)"
   ]
  },
  {
   "cell_type": "markdown",
   "metadata": {},
   "source": [
    "### Bag of Words\n",
    "- As we all know that, not only the output feature but also the input feature should be of the numerical form. So we are converting text into numerical form by creating a Bag of Words model using CountVectorizer."
   ]
  },
  {
   "cell_type": "code",
   "execution_count": 67,
   "metadata": {},
   "outputs": [],
   "source": [
    "from sklearn.feature_extraction.text import CountVectorizer\n",
    "cv = CountVectorizer(max_features = 35000)"
   ]
  },
  {
   "cell_type": "code",
   "execution_count": 68,
   "metadata": {},
   "outputs": [
    {
     "name": "stdout",
     "output_type": "stream",
     "text": [
      "{'analyzer': 'word', 'binary': False, 'decode_error': 'strict', 'dtype': <class 'numpy.int64'>, 'encoding': 'utf-8', 'input': 'content', 'lowercase': True, 'max_df': 1.0, 'max_features': 35000, 'min_df': 1, 'ngram_range': (1, 1), 'preprocessor': None, 'stop_words': None, 'strip_accents': None, 'token_pattern': '(?u)\\\\b\\\\w\\\\w+\\\\b', 'tokenizer': None, 'vocabulary': None}\n"
     ]
    }
   ],
   "source": [
    "print(cv.get_params())"
   ]
  },
  {
   "cell_type": "code",
   "execution_count": 69,
   "metadata": {},
   "outputs": [
    {
     "name": "stdout",
     "output_type": "stream",
     "text": [
      "(10337, 35000)\n"
     ]
    }
   ],
   "source": [
    "X = cv.fit_transform(corpus).toarray()\n",
    "print(X.shape)"
   ]
  },
  {
   "cell_type": "markdown",
   "metadata": {},
   "source": [
    "### Train Test Splitting\n",
    "We preprocessed our input and output variable. The next step is to create the training set, for training the model and test set, for evaluating the test set."
   ]
  },
  {
   "cell_type": "code",
   "execution_count": 51,
   "metadata": {},
   "outputs": [],
   "source": [
    "from sklearn.model_selection import train_test_split"
   ]
  },
  {
   "cell_type": "code",
   "execution_count": 52,
   "metadata": {},
   "outputs": [
    {
     "name": "stdout",
     "output_type": "stream",
     "text": [
      "(8269, 32000) (2068, 32000) (8269,) (2068,)\n"
     ]
    }
   ],
   "source": [
    "X_train , X_test , y_train , y_test = train_test_split(X , y , test_size = 0.2)\n",
    "\n",
    "print(X_train.shape , X_test.shape , y_train.shape , y_test.shape)"
   ]
  },
  {
   "cell_type": "markdown",
   "metadata": {},
   "source": [
    "### Model Training using Naive Bayes Classifier and Prediction "
   ]
  },
  {
   "cell_type": "code",
   "execution_count": 70,
   "metadata": {},
   "outputs": [],
   "source": [
    "from sklearn.naive_bayes import MultinomialNB"
   ]
  },
  {
   "cell_type": "code",
   "execution_count": 71,
   "metadata": {},
   "outputs": [
    {
     "data": {
      "text/plain": [
       "MultinomialNB()"
      ]
     },
     "execution_count": 71,
     "metadata": {},
     "output_type": "execute_result"
    }
   ],
   "source": [
    "model = MultinomialNB()\n",
    "model.fit(X , y)"
   ]
  },
  {
   "cell_type": "code",
   "execution_count": 55,
   "metadata": {},
   "outputs": [],
   "source": [
    "y_pred = model.predict(X_test)"
   ]
  },
  {
   "cell_type": "markdown",
   "metadata": {},
   "source": [
    "### Model Evaluation"
   ]
  },
  {
   "cell_type": "code",
   "execution_count": 56,
   "metadata": {},
   "outputs": [],
   "source": [
    "from sklearn.metrics import accuracy_score , confusion_matrix"
   ]
  },
  {
   "cell_type": "code",
   "execution_count": 57,
   "metadata": {
    "scrolled": true
   },
   "outputs": [
    {
     "name": "stdout",
     "output_type": "stream",
     "text": [
      "The Accuracy is:  93.56866537717602\n"
     ]
    }
   ],
   "source": [
    "acc = accuracy_score(y_test , y_pred)\n",
    "print(\"The Accuracy is: \", acc*100)"
   ]
  },
  {
   "cell_type": "code",
   "execution_count": 23,
   "metadata": {},
   "outputs": [
    {
     "data": {
      "image/png": "[encoded data removed]",
      "text/plain": [
       "<Figure size 864x648 with 2 Axes>"
      ]
     },
     "metadata": {
      "needs_background": "light"
     },
     "output_type": "display_data"
    }
   ],
   "source": [
    "cm = confusion_matrix(y_test , y_pred)\n",
    "\n",
    "plt.figure(figsize = (12, 9))\n",
    "sns.heatmap(cm, annot = True , fmt = 'd' , linewidth = 0.1)\n",
    "plt.title('visualising the confusion matrix' , fontsize = 14)\n",
    "plt.show()"
   ]
  },
  {
   "cell_type": "markdown",
   "metadata": {},
   "source": [
    "### Predicting with some more data"
   ]
  },
  {
   "cell_type": "code",
   "execution_count": 72,
   "metadata": {},
   "outputs": [],
   "source": [
    "def predict(text):\n",
    "    \n",
    "    x = cv.transform([text]).toarray()    # converting text to bag of words model (Vector)\n",
    "    lang = model.predict(x)               # predicting the language\n",
    "    \n",
    "    lang = le.inverse_transform(lang)     # finding the language corresponding the the predicted value\n",
    "    print(\"The language is:\" , lang[0]) "
   ]
  },
  {
   "cell_type": "code",
   "execution_count": 73,
   "metadata": {},
   "outputs": [
    {
     "name": "stdout",
     "output_type": "stream",
     "text": [
      "The language is: English\n"
     ]
    }
   ],
   "source": [
    "# English\n",
    "\n",
    "predict(\"We are using the Language Detection dataset, which contains text details for 17 different languages.\")"
   ]
  },
  {
   "cell_type": "code",
   "execution_count": 74,
   "metadata": {},
   "outputs": [
    {
     "name": "stdout",
     "output_type": "stream",
     "text": [
      "The language is: French\n"
     ]
    }
   ],
   "source": [
    "# French\n",
    "\n",
    "predict(\"fournit un portail de connaissances basé sur la communauté pour les professionnels de l'analyse et de la science des données\")"
   ]
  },
  {
   "cell_type": "code",
   "execution_count": 75,
   "metadata": {},
   "outputs": [
    {
     "name": "stdout",
     "output_type": "stream",
     "text": [
      "The language is: Malayalam\n"
     ]
    }
   ],
   "source": [
    "# Malayalam\n",
    "\n",
    "predict(\"അനലിറ്റിക്സ്, ഡാറ്റാ സയൻസ് പ്രൊഫഷണലുകൾക്കായി കമ്മ്യൂണിറ്റി അധിഷ്ഠിത വിജ്ഞാന പോർട്ടൽ അനലിറ്റിക്സ് വിദ്യ നൽകുന്നു\")"
   ]
  },
  {
   "cell_type": "code",
   "execution_count": 76,
   "metadata": {},
   "outputs": [
    {
     "name": "stdout",
     "output_type": "stream",
     "text": [
      "The language is: Russian\n"
     ]
    }
   ],
   "source": [
    "# Russian\n",
    "\n",
    "predict(\"это портал знаний на базе сообщества для профессионалов в области аналитики и данных.\")"
   ]
  },
  {
   "cell_type": "code",
   "execution_count": 77,
   "metadata": {},
   "outputs": [
    {
     "name": "stdout",
     "output_type": "stream",
     "text": [
      "The language is: Hindi\n"
     ]
    }
   ],
   "source": [
    "# Hindi\n",
    "\n",
    "predict(\"यह हिंदी का एक पाठ है जिसका पूर्वानुमान हमारे मॉडल द्वारा लगाया जाएगा\")"
   ]
  },
  {
   "cell_type": "markdown",
   "metadata": {},
   "source": [
    "### Saving the model"
   ]
  },
  {
   "cell_type": "code",
   "execution_count": 78,
   "metadata": {},
   "outputs": [],
   "source": [
    "import pickle"
   ]
  },
  {
   "cell_type": "code",
   "execution_count": 79,
   "metadata": {},
   "outputs": [],
   "source": [
    "import joblib as jb"
   ]
  },
  {
   "cell_type": "code",
   "execution_count": 80,
   "metadata": {},
   "outputs": [
    {
     "data": {
      "text/plain": [
       "['lang_det_model.pkl']"
      ]
     },
     "execution_count": 80,
     "metadata": {},
     "output_type": "execute_result"
    }
   ],
   "source": [
    "jb.dump(model , 'lang_det_model.pkl')"
   ]
  },
  {
   "cell_type": "code",
   "execution_count": 87,
   "metadata": {},
   "outputs": [
    {
     "data": {
      "text/plain": [
       "['vectorizer.pkl']"
      ]
     },
     "execution_count": 87,
     "metadata": {},
     "output_type": "execute_result"
    }
   ],
   "source": [
    "jb.dump(cv , 'vectorizer.pkl')"
   ]
  },
  {
   "cell_type": "code",
   "execution_count": 81,
   "metadata": {},
   "outputs": [],
   "source": [
    "model = jb.load('lang_det_model.pkl')"
   ]
  },
  {
   "cell_type": "code",
   "execution_count": 86,
   "metadata": {
    "scrolled": true
   },
   "outputs": [
    {
     "name": "stdout",
     "output_type": "stream",
     "text": [
      "The language is: English\n"
     ]
    }
   ],
   "source": [
    "predict('This is insane')"
   ]
  },
  {
   "cell_type": "code",
   "execution_count": 88,
   "metadata": {},
   "outputs": [
    {
     "name": "stdout",
     "output_type": "stream",
     "text": [
      "The language is: Arabic\n"
     ]
    }
   ],
   "source": [
    "predict('توفر George Wush بوابة معرفية قائمة على المجتمع لمحترفي التحليلات وعلوم البيانات')"
   ]
  },
  {
   "cell_type": "code",
   "execution_count": 90,
   "metadata": {},
   "outputs": [
    {
     "name": "stdout",
     "output_type": "stream",
     "text": [
      "The language is: Russian\n"
     ]
    }
   ],
   "source": [
    "predict('это портал знаний на базе сообщества для профессионалов в области аналитики и данных.')"
   ]
  },
  {
   "cell_type": "code",
   "execution_count": null,
   "metadata": {},
   "outputs": [],
   "source": []
  }
 ],
 "metadata": {
  "kernelspec": {
   "display_name": "Python 3",
   "language": "python",
   "name": "python3"
  },
  "language_info": {
   "codemirror_mode": {
    "name": "ipython",
    "version": 3
   },
   "file_extension": ".py",
   "mimetype": "text/x-python",
   "name": "python",
   "nbconvert_exporter": "python",
   "pygments_lexer": "ipython3",
   "version": "3.8.8"
  }
 },
 "nbformat": 4,
 "nbformat_minor": 4
}
